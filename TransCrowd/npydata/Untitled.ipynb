{
 "cells": [
  {
   "cell_type": "code",
   "execution_count": 3,
   "id": "505ddbd1-eb24-49f4-a680-76fd349cf249",
   "metadata": {},
   "outputs": [
    {
     "name": "stdout",
     "output_type": "stream",
     "text": [
      "13615\n",
      "['/home/cv06f23/Dataset/jhu_crowd_v2.0/jhu_crowd_v2.0/train_data/images/00_0001.jpg'\n",
      " '/home/cv06f23/Dataset/jhu_crowd_v2.0/jhu_crowd_v2.0/train_data/images/00_0008.jpg'\n",
      " '/home/cv06f23/Dataset/jhu_crowd_v2.0/jhu_crowd_v2.0/train_data/images/00_0010.jpg'\n",
      " ...\n",
      " '/home/cv06f23/Dataset/jhu_crowd_v2.0/jhu_crowd_v2.0/train_data/images/40_1002.jpg'\n",
      " '/home/cv06f23/Dataset/jhu_crowd_v2.0/jhu_crowd_v2.0/train_data/images/41_1002.jpg'\n",
      " '/home/cv06f23/Dataset/jhu_crowd_v2.0/jhu_crowd_v2.0/train_data/images/42_1002.jpg']\n"
     ]
    }
   ],
   "source": [
    "import numpy as np\n",
    "data = np.load('JHU_train.npy')\n",
    "print(len(data))\n",
    "print(data)"
   ]
  }
 ],
 "metadata": {
  "kernelspec": {
   "display_name": "Python 3 (ipykernel)",
   "language": "python",
   "name": "python3"
  },
  "language_info": {
   "codemirror_mode": {
    "name": "ipython",
    "version": 3
   },
   "file_extension": ".py",
   "mimetype": "text/x-python",
   "name": "python",
   "nbconvert_exporter": "python",
   "pygments_lexer": "ipython3",
   "version": "3.9.12"
  }
 },
 "nbformat": 4,
 "nbformat_minor": 5
}
